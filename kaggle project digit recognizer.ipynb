{
 "cells": [
  {
   "cell_type": "code",
   "execution_count": null,
   "metadata": {},
   "outputs": [],
   "source": [
    "#loaddata function\n",
    "\n",
    "import numpy as np\n",
    "import pandas as pd\n",
    "import csv\n",
    "\n",
    "def loaddata(path):\n",
    "    file = pd.read_csv(path)\n",
    "    temp = file.to_numpy()\n",
    "    if temp.shape[1] == 785:\n",
    "        features = temp[:, 1:]\n",
    "        label = temp[:, 0:1]\n",
    "    else:\n",
    "        features = temp[:, :]\n",
    "        label = np.zeros((temp.shape[0], 1))\n",
    "    return features, label"
   ]
  },
  {
   "cell_type": "markdown",
   "metadata": {},
   "source": [
    "# normalize each sample's non-zero values to 1. Tried both normalization and regular kNN. There is no big difference after testing."
   ]
  },
  {
   "cell_type": "code",
   "execution_count": null,
   "metadata": {},
   "outputs": [],
   "source": [
    "def normalize(data):\n",
    "    n, m = data.shape\n",
    "    for i in range(n):\n",
    "        for j in range(m):\n",
    "            if data[i, j] != 0:\n",
    "                data[i, j] = 1\n",
    "    return data"
   ]
  },
  {
   "cell_type": "markdown",
   "metadata": {},
   "source": [
    "# core code:k-nearest neighbor, return the most frequent label from the nearest k neighbors."
   ]
  },
  {
   "cell_type": "code",
   "execution_count": null,
   "metadata": {},
   "outputs": [],
   "source": [
    "def kNNeighbor(X, features, labels, k): #X: sample to be tested; features: training features; labels: training labels; n: how many neighbors to be considered.\n",
    "    temp = np.sum((features - X)**2, 1)\n",
    "    position = np.argsort(temp, 0)\n",
    "    neighbor_labels = labels[position[0:k]]\n",
    "    count = {}\n",
    "    for i in range(k):\n",
    "        count[neighbor_labels[i][0]] = count.get(neighbor_labels[i][0], 0) + 1\n",
    "    count_sorted = sorted(count.items(), key = lambda a: a[1], reverse = True)\n",
    "    return count_sorted[0][0]"
   ]
  },
  {
   "cell_type": "markdown",
   "metadata": {},
   "source": [
    "# can also use pd.to_csv() instead this save_csv() function."
   ]
  },
  {
   "cell_type": "code",
   "execution_count": 105,
   "metadata": {},
   "outputs": [],
   "source": [
    "def save_csv(result):\n",
    "    with open('D:/Program Files/machine learning/Kaggle Real Projects/digit recognizer/prediction.csv', 'w', newline = '') as file:\n",
    "        writer = csv.writer(file)\n",
    "        for i in result:\n",
    "            temp = []\n",
    "            temp.append(i)\n",
    "            writer.writerow(temp)"
   ]
  },
  {
   "cell_type": "markdown",
   "metadata": {},
   "source": [
    "# do not have the Ytest, so just listed all the Ypred in a csv file called prediction."
   ]
  },
  {
   "cell_type": "code",
   "execution_count": 106,
   "metadata": {},
   "outputs": [],
   "source": [
    "train_feature, train_label = loaddata('D:/Program Files/machine learning/Kaggle Real Projects/digit recognizer/train.csv')\n",
    "test_feature, test_label = loaddata('D:/Program Files/machine learning/Kaggle Real Projects/digit recognizer/test.csv')\n",
    "m = test_feature.shape[0]\n",
    "result = []\n",
    "for i in range(100): #should use m, but the program really needs very long time to run, so use 100 instead\n",
    "    result_temp = kNNeighbor(test_feature[i, :], train_feature, train_label, 20)\n",
    "    result.append(result_temp)\n",
    "save_csv(result)"
   ]
  }
 ],
 "metadata": {
  "kernelspec": {
   "display_name": "Python 3",
   "language": "python",
   "name": "python3"
  },
  "language_info": {
   "codemirror_mode": {
    "name": "ipython",
    "version": 3
   },
   "file_extension": ".py",
   "mimetype": "text/x-python",
   "name": "python",
   "nbconvert_exporter": "python",
   "pygments_lexer": "ipython3",
   "version": "3.7.5"
  }
 },
 "nbformat": 4,
 "nbformat_minor": 4
}
